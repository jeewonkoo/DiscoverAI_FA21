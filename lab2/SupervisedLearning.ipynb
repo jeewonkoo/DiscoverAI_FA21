{
    "metadata": {
        "kernelspec": {
            "name": "python3",
            "display_name": "Python 3 (ipykernel)",
            "language": "python"
        }
    },
    "nbformat": 4,
    "nbformat_minor": 2,
    "cells": [
        {
            "attachments": {},
            "cell_type": "markdown",
            "metadata": {},
            "source": [
                "This code is an introduction to supervised learning solving a classification problem using **decision trees**.\n",
                "It follows [this tutorial](https://youtu.be/7eh4d6sabA0). "
            ]
        },
        {
            "attachments": {},
            "cell_type": "markdown",
            "metadata": {},
            "source": [
                "# **Classification Problem**\n",
                "We will follow these steps of solving a machine learning problem.\n",
                "\n",
                "\n",
                "1. Import the Data\n",
                "2. Clean the Data\n",
                "3. split the Data into Training/ Test steps\n",
                "4. Create a Model\n",
                "5. Train the Model\n",
                "6. Make Predictions\n",
                "7. Evaluate and improve\n",
                ""
            ]
        },
        {
            "attachments": {},
            "cell_type": "markdown",
            "metadata": {},
            "source": [
                "# Problem description\n",
                "Enter in the text cell below what you will be predicting in this classification problem (y) and which columns will be used in the prediction (X)"
            ]
        },
        {
            "attachments": {},
            "cell_type": "markdown",
            "metadata": {},
            "source": [
                ""
            ]
        },
        {
            "cell_type": "code",
            "execution_count": 2,
            "metadata": {},
            "outputs": [],
            "source": [
                "import pandas as pd\n",
                "from sklearn.tree import DecisionTreeClassifier\n",
                "from sklearn.model_selection import train_test_split\n",
                "from sklearn.metrics import accuracy_score\n",
                "import joblib\n",
                "from sklearn import tree"
            ]
        },
        {
            "attachments": {},
            "cell_type": "markdown",
            "metadata": {},
            "source": [
                "1. Import the Data."
            ]
        },
        {
            "cell_type": "code",
            "execution_count": 7,
            "metadata": {},
            "outputs": [],
            "source": [
                "df = pd.read_csv('Billionaire.csv')"
            ]
        },
        {
            "attachments": {},
            "cell_type": "markdown",
            "metadata": {},
            "source": [
                "2. Display columns and describe the data set"
            ]
        },
        {
            "cell_type": "code",
            "execution_count": 8,
            "metadata": {},
            "outputs": [
                {
                    "name": "stdout",
                    "output_type": "stream",
                    "text": "\u003cclass 'pandas.core.frame.DataFrame'\u003e\nRangeIndex: 2676 entries, 0 to 2675\nData columns (total 7 columns):\n #   Column    Non-Null Count  Dtype \n---  ------    --------------  ----- \n 0   Name      2676 non-null   object\n 1   NetWorth  2676 non-null   object\n 2   Country   2676 non-null   object\n 3   Source    2676 non-null   object\n 4   Rank      2676 non-null   int64 \n 5   Age       2676 non-null   int64 \n 6   Industry  2676 non-null   object\ndtypes: int64(2), object(5)\nmemory usage: 146.5+ KB\n"
                }
            ],
            "source": [
                "df.info()"
            ]
        },
        {
            "cell_type": "code",
            "execution_count": 9,
            "metadata": {},
            "outputs": [
                {
                    "data": {
                        "text/html": "\u003cdiv\u003e\n\u003cstyle scoped\u003e\n    .dataframe tbody tr th:only-of-type {\n        vertical-align: middle;\n    }\n\n    .dataframe tbody tr th {\n        vertical-align: top;\n    }\n\n    .dataframe thead th {\n        text-align: right;\n    }\n\u003c/style\u003e\n\u003ctable border=\"1\" class=\"dataframe\"\u003e\n  \u003cthead\u003e\n    \u003ctr style=\"text-align: right;\"\u003e\n      \u003cth\u003e\u003c/th\u003e\n      \u003cth\u003eRank\u003c/th\u003e\n      \u003cth\u003eAge\u003c/th\u003e\n    \u003c/tr\u003e\n  \u003c/thead\u003e\n  \u003ctbody\u003e\n    \u003ctr\u003e\n      \u003cth\u003ecount\u003c/th\u003e\n      \u003ctd\u003e2676.000000\u003c/td\u003e\n      \u003ctd\u003e2676.000000\u003c/td\u003e\n    \u003c/tr\u003e\n    \u003ctr\u003e\n      \u003cth\u003emean\u003c/th\u003e\n      \u003ctd\u003e1343.791106\u003c/td\u003e\n      \u003ctd\u003e63.113602\u003c/td\u003e\n    \u003c/tr\u003e\n    \u003ctr\u003e\n      \u003cth\u003estd\u003c/th\u003e\n      \u003ctd\u003e773.724884\u003c/td\u003e\n      \u003ctd\u003e13.445153\u003c/td\u003e\n    \u003c/tr\u003e\n    \u003ctr\u003e\n      \u003cth\u003emin\u003c/th\u003e\n      \u003ctd\u003e1.000000\u003c/td\u003e\n      \u003ctd\u003e18.000000\u003c/td\u003e\n    \u003c/tr\u003e\n    \u003ctr\u003e\n      \u003cth\u003e25%\u003c/th\u003e\n      \u003ctd\u003e680.000000\u003c/td\u003e\n      \u003ctd\u003e54.000000\u003c/td\u003e\n    \u003c/tr\u003e\n    \u003ctr\u003e\n      \u003cth\u003e50%\u003c/th\u003e\n      \u003ctd\u003e1362.000000\u003c/td\u003e\n      \u003ctd\u003e63.000000\u003c/td\u003e\n    \u003c/tr\u003e\n    \u003ctr\u003e\n      \u003cth\u003e75%\u003c/th\u003e\n      \u003ctd\u003e2035.000000\u003c/td\u003e\n      \u003ctd\u003e73.000000\u003c/td\u003e\n    \u003c/tr\u003e\n    \u003ctr\u003e\n      \u003cth\u003emax\u003c/th\u003e\n      \u003ctd\u003e2674.000000\u003c/td\u003e\n      \u003ctd\u003e99.000000\u003c/td\u003e\n    \u003c/tr\u003e\n  \u003c/tbody\u003e\n\u003c/table\u003e\n\u003c/div\u003e",
                        "text/plain": "              Rank          Age\ncount  2676.000000  2676.000000\nmean   1343.791106    63.113602\nstd     773.724884    13.445153\nmin       1.000000    18.000000\n25%     680.000000    54.000000\n50%    1362.000000    63.000000\n75%    2035.000000    73.000000\nmax    2674.000000    99.000000"
                    },
                    "execution_count": 9,
                    "metadata": {},
                    "output_type": "execute_result"
                }
            ],
            "source": [
                "df.describe()"
            ]
        },
        {
            "attachments": {},
            "cell_type": "markdown",
            "metadata": {},
            "source": [
                "3. Prepare Data"
            ]
        },
        {
            "cell_type": "code",
            "execution_count": 11,
            "metadata": {},
            "outputs": [
                {
                    "data": {
                        "text/html": "\u003cdiv\u003e\n\u003cstyle scoped\u003e\n    .dataframe tbody tr th:only-of-type {\n        vertical-align: middle;\n    }\n\n    .dataframe tbody tr th {\n        vertical-align: top;\n    }\n\n    .dataframe thead th {\n        text-align: right;\n    }\n\u003c/style\u003e\n\u003ctable border=\"1\" class=\"dataframe\"\u003e\n  \u003cthead\u003e\n    \u003ctr style=\"text-align: right;\"\u003e\n      \u003cth\u003e\u003c/th\u003e\n      \u003cth\u003eRank\u003c/th\u003e\n      \u003cth\u003eAge\u003c/th\u003e\n    \u003c/tr\u003e\n  \u003c/thead\u003e\n  \u003ctbody\u003e\n    \u003ctr\u003e\n      \u003cth\u003e0\u003c/th\u003e\n      \u003ctd\u003e1\u003c/td\u003e\n      \u003ctd\u003e57\u003c/td\u003e\n    \u003c/tr\u003e\n    \u003ctr\u003e\n      \u003cth\u003e1\u003c/th\u003e\n      \u003ctd\u003e2\u003c/td\u003e\n      \u003ctd\u003e49\u003c/td\u003e\n    \u003c/tr\u003e\n    \u003ctr\u003e\n      \u003cth\u003e2\u003c/th\u003e\n      \u003ctd\u003e3\u003c/td\u003e\n      \u003ctd\u003e72\u003c/td\u003e\n    \u003c/tr\u003e\n    \u003ctr\u003e\n      \u003cth\u003e3\u003c/th\u003e\n      \u003ctd\u003e4\u003c/td\u003e\n      \u003ctd\u003e65\u003c/td\u003e\n    \u003c/tr\u003e\n    \u003ctr\u003e\n      \u003cth\u003e4\u003c/th\u003e\n      \u003ctd\u003e5\u003c/td\u003e\n      \u003ctd\u003e36\u003c/td\u003e\n    \u003c/tr\u003e\n    \u003ctr\u003e\n      \u003cth\u003e...\u003c/th\u003e\n      \u003ctd\u003e...\u003c/td\u003e\n      \u003ctd\u003e...\u003c/td\u003e\n    \u003c/tr\u003e\n    \u003ctr\u003e\n      \u003cth\u003e2671\u003c/th\u003e\n      \u003ctd\u003e2674\u003c/td\u003e\n      \u003ctd\u003e49\u003c/td\u003e\n    \u003c/tr\u003e\n    \u003ctr\u003e\n      \u003cth\u003e2672\u003c/th\u003e\n      \u003ctd\u003e2674\u003c/td\u003e\n      \u003ctd\u003e65\u003c/td\u003e\n    \u003c/tr\u003e\n    \u003ctr\u003e\n      \u003cth\u003e2673\u003c/th\u003e\n      \u003ctd\u003e2674\u003c/td\u003e\n      \u003ctd\u003e58\u003c/td\u003e\n    \u003c/tr\u003e\n    \u003ctr\u003e\n      \u003cth\u003e2674\u003c/th\u003e\n      \u003ctd\u003e2674\u003c/td\u003e\n      \u003ctd\u003e58\u003c/td\u003e\n    \u003c/tr\u003e\n    \u003ctr\u003e\n      \u003cth\u003e2675\u003c/th\u003e\n      \u003ctd\u003e2674\u003c/td\u003e\n      \u003ctd\u003e54\u003c/td\u003e\n    \u003c/tr\u003e\n  \u003c/tbody\u003e\n\u003c/table\u003e\n\u003cp\u003e2676 rows × 2 columns\u003c/p\u003e\n\u003c/div\u003e",
                        "text/plain": "      Rank  Age\n0        1   57\n1        2   49\n2        3   72\n3        4   65\n4        5   36\n...    ...  ...\n2671  2674   49\n2672  2674   65\n2673  2674   58\n2674  2674   58\n2675  2674   54\n\n[2676 rows x 2 columns]"
                    },
                    "execution_count": 11,
                    "metadata": {},
                    "output_type": "execute_result"
                }
            ],
            "source": [
                "# Run this section to inspect X\n",
                "\n",
                "X = df.drop(columns = ['Name','Country','Industry','Source','NetWorth'])\n",
                "X"
            ]
        },
        {
            "cell_type": "code",
            "execution_count": 12,
            "metadata": {},
            "outputs": [
                {
                    "data": {
                        "text/plain": "0       $177 B\n1       $151 B\n2       $150 B\n3       $124 B\n4        $97 B\n         ...  \n2671      $1 B\n2672      $1 B\n2673      $1 B\n2674      $1 B\n2675      $1 B\nName: NetWorth, Length: 2676, dtype: object"
                    },
                    "execution_count": 12,
                    "metadata": {},
                    "output_type": "execute_result"
                }
            ],
            "source": [
                "# Uncomment this section to inpect y\n",
                "y = df['NetWorth']\n",
                "y"
            ]
        },
        {
            "attachments": {},
            "cell_type": "markdown",
            "metadata": {},
            "source": [
                "4. Calculate accuracy"
            ]
        },
        {
            "cell_type": "code",
            "execution_count": 16,
            "metadata": {},
            "outputs": [
                {
                    "data": {
                        "text/plain": "0.9552238805970149"
                    },
                    "execution_count": 16,
                    "metadata": {},
                    "output_type": "execute_result"
                }
            ],
            "source": [
                "# Train 80% of the data set and use the rest to test\n",
                "from sklearn.tree import DecisionTreeClassifier\n",
                "from sklearn.model_selection import train_test_split\n",
                "from sklearn.metrics import accuracy_score\n",
                "X_train, X_test, y_train, y_test = train_test_split(\n",
                "                                    X, y, test_size=0.2)\n",
                "\n",
                "model = DecisionTreeClassifier()\n",
                "\n",
                "# model.fit(X, y)\n",
                "# predictions = model.predict([[700,700], [750, 750], [800,800]]) \n",
                "\n",
                "model.fit(X_train, y_train)\n",
                "predictions = model.predict(X_test)\n",
                "\n",
                "#^ predict date High 650 Low 600 / High 700 Low 600 / High 800 Low 750 \n",
                "\n",
                "predictions #prediction result\n",
                "\n",
                "# # Compute model accuracy\n",
                "score = accuracy_score(y_test, predictions)\n",
                "score"
            ]
        },
        {
            "attachments": {},
            "cell_type": "markdown",
            "metadata": {},
            "source": [
                "    5. Persisting Models"
            ]
        },
        {
            "cell_type": "code",
            "execution_count": 19,
            "metadata": {},
            "outputs": [
                {
                    "data": {
                        "text/plain": "['Billionaire.joblib']"
                    },
                    "execution_count": 19,
                    "metadata": {},
                    "output_type": "execute_result"
                }
            ],
            "source": [
                "# Save the model to file\n",
                "joblib.dump(model, 'Billionaire.joblib')\n",
                ""
            ]
        },
        {
            "attachments": {},
            "cell_type": "markdown",
            "metadata": {},
            "source": [
                "5.b. Import the model and make predictions"
            ]
        },
        {
            "cell_type": "code",
            "execution_count": 20,
            "metadata": {},
            "outputs": [
                {
                    "data": {
                        "text/plain": "array(['$12.9 B', '$2.9 B', '$1.7 B', '$1.9 B', '$1.6 B', '$2.7 B',\n       '$1.2 B', '$1.3 B', '$7.6 B', '$1.7 B', '$5.4 B', '$1.9 B',\n       '$1.1 B', '$2.2 B', '$2.8 B', '$5.2 B', '$2.8 B', '$1.5 B',\n       '$1.1 B', '$4.6 B', '$4.7 B', '$3 B', '$33.7 B', '$1.6 B',\n       '$7.6 B', '$1.1 B', '$2.5 B', '$3.6 B', '$5.3 B', '$33 B',\n       '$1.3 B', '$2.3 B', '$2.3 B', '$1.6 B', '$3.8 B', '$1.2 B',\n       '$1.4 B', '$1.2 B', '$1.4 B', '$3.5 B', '$2.1 B', '$5.1 B',\n       '$5.8 B', '$5.9 B', '$1.3 B', '$1.6 B', '$17.5 B', '$5.8 B',\n       '$1.2 B', '$4 B', '$1.3 B', '$1.2 B', '$1.2 B', '$5 B', '$1.2 B',\n       '$1.4 B', '$3 B', '$9.4 B', '$4.3 B', '$3.8 B', '$2.9 B', '$2.4 B',\n       '$1.4 B', '$1.8 B', '$8.2 B', '$2.1 B', '$1.1 B', '$3.3 B', '$2 B',\n       '$1.1 B', '$5.5 B', '$2.3 B', '$1.2 B', '$1.6 B', '$1.4 B',\n       '$1.8 B', '$2 B', '$3.4 B', '$3.7 B', '$2.3 B', '$1.4 B', '$5.6 B',\n       '$1.4 B', '$25.8 B', '$5.9 B', '$3 B', '$2.8 B', '$2.9 B',\n       '$9.6 B', '$2 B', '$2.7 B', '$4.1 B', '$1.3 B', '$1.7 B', '$2.7 B',\n       '$7 B', '$2.5 B', '$2.1 B', '$3.7 B', '$3.2 B', '$1.6 B', '$2.7 B',\n       '$1.3 B', '$1.5 B', '$1.1 B', '$7.3 B', '$12.6 B', '$1 B',\n       '$7.7 B', '$3.6 B', '$1.1 B', '$1.5 B', '$2 B', '$1 B', '$1.2 B',\n       '$4.3 B', '$2.2 B', '$3.3 B', '$2.5 B', '$2.3 B', '$1.2 B',\n       '$1.3 B', '$4.1 B', '$7.6 B', '$20.9 B', '$1.6 B', '$1 B',\n       '$4.5 B', '$1.8 B', '$2 B', '$1.2 B', '$1.7 B', '$2.3 B', '$5.4 B',\n       '$2.8 B', '$2.4 B', '$1.7 B', '$5.2 B', '$1.4 B', '$3.2 B',\n       '$4.6 B', '$1.4 B', '$1.6 B', '$4.9 B', '$11.6 B', '$1.7 B',\n       '$3 B', '$6 B', '$3.5 B', '$2.7 B', '$9.3 B', '$2.2 B', '$1.9 B',\n       '$1 B', '$2.5 B', '$1.2 B', '$2.7 B', '$2.9 B', '$2.8 B', '$5.6 B',\n       '$3 B', '$2.1 B', '$1.5 B', '$4.2 B', '$2.2 B', '$2.8 B', '$3.1 B',\n       '$1.3 B', '$2.6 B', '$2.9 B', '$2.6 B', '$1.4 B', '$2 B', '$3 B',\n       '$1.4 B', '$2.6 B', '$1.4 B', '$1.5 B', '$3.2 B', '$1.4 B',\n       '$2.4 B', '$2.1 B', '$4 B', '$1.2 B', '$7.1 B', '$2.4 B', '$1 B',\n       '$2.6 B', '$10.7 B', '$5.7 B', '$2 B', '$1.1 B', '$1.8 B',\n       '$1.2 B', '$2.7 B', '$2.6 B', '$3.2 B', '$1.2 B', '$6 B', '$1.8 B',\n       '$3 B', '$1.2 B', '$1.6 B', '$2.1 B', '$1.3 B', '$1.4 B', '$2.4 B',\n       '$13.3 B', '$1.5 B', '$1 B', '$1.6 B', '$1.3 B', '$2 B', '$2.8 B',\n       '$3.7 B', '$1.9 B', '$3 B', '$1.5 B', '$1.4 B', '$1.9 B', '$1.2 B',\n       '$1.7 B', '$1 B', '$1.7 B', '$3.2 B', '$5.5 B', '$4 B', '$14.2 B',\n       '$7 B', '$1.9 B', '$1.3 B', '$10.4 B', '$1.4 B', '$4.5 B',\n       '$1.2 B', '$2.1 B', '$1.6 B', '$1.1 B', '$1.4 B', '$2.1 B',\n       '$1.4 B', '$1.9 B', '$9.1 B', '$8.8 B', '$1.5 B', '$2.8 B',\n       '$1.9 B', '$1.9 B', '$11.1 B', '$2.9 B', '$2.3 B', '$3.2 B',\n       '$1.5 B', '$14.4 B', '$1.6 B', '$1.7 B', '$2.1 B', '$1.4 B',\n       '$1.8 B', '$1.4 B', '$1.7 B', '$3.4 B', '$6.7 B', '$1.2 B',\n       '$1.2 B', '$1.4 B', '$3.7 B', '$2.5 B', '$2 B', '$11.6 B',\n       '$2.4 B', '$3 B', '$2.1 B', '$1.3 B', '$1.3 B', '$68.7 B',\n       '$1.2 B', '$2.3 B', '$2.2 B', '$3.1 B', '$2.3 B', '$2.8 B', '$1 B',\n       '$2.2 B', '$1.1 B', '$8.9 B', '$1.3 B', '$1.3 B', '$1.8 B', '$7 B',\n       '$1.3 B', '$1.4 B', '$14.7 B', '$11.3 B', '$1.6 B', '$3 B', '$3 B',\n       '$4.4 B', '$24.4 B', '$2.3 B', '$3.8 B', '$13.9 B', '$2.4 B',\n       '$1.6 B', '$1.1 B', '$6 B', '$4.8 B', '$1.2 B', '$1.3 B',\n       '$34.5 B', '$1.1 B', '$3.2 B', '$2.9 B', '$10.8 B', '$1 B',\n       '$10 B', '$3.3 B', '$1.8 B', '$2.7 B', '$3.7 B', '$1.4 B',\n       '$1.4 B', '$2.3 B', '$3.1 B', '$1.5 B', '$3.2 B', '$3.4 B',\n       '$1.1 B', '$1 B', '$8.3 B', '$1.5 B', '$8.7 B', '$1.2 B', '$4.6 B',\n       '$15.9 B', '$17.5 B', '$11 B', '$1.1 B', '$3.9 B', '$2.3 B',\n       '$2.2 B', '$1.8 B', '$1.7 B', '$5.4 B', '$3.1 B', '$4.2 B',\n       '$1.7 B', '$2 B', '$9.1 B', '$2.9 B', '$4.1 B', '$1.9 B', '$2 B',\n       '$3.5 B', '$1.1 B', '$5 B', '$9.5 B', '$2.5 B', '$10.1 B',\n       '$4.1 B', '$2.4 B', '$2 B', '$1.6 B', '$6.9 B', '$1.2 B', '$1.7 B',\n       '$8.3 B', '$32 B', '$6.1 B', '$1.7 B', '$4 B', '$2.8 B', '$1.8 B',\n       '$3.6 B', '$2.6 B', '$1.6 B', '$1.1 B', '$3.5 B', '$5.7 B',\n       '$1.9 B', '$1.4 B', '$1.7 B', '$1.7 B', '$1.3 B', '$1.1 B',\n       '$1.3 B', '$9.1 B', '$1.4 B', '$3.2 B', '$4.6 B', '$37.7 B',\n       '$1.5 B', '$2.7 B', '$6 B', '$1.7 B', '$1.3 B', '$2.8 B', '$3.9 B',\n       '$6 B', '$1.5 B', '$3.5 B', '$55.3 B', '$6.5 B', '$1.1 B',\n       '$3.8 B', '$4 B', '$6.4 B', '$1.7 B', '$2.4 B', '$1.7 B', '$1.6 B',\n       '$3.1 B', '$2.2 B', '$3.3 B', '$26.4 B', '$1.2 B', '$1.9 B',\n       '$18.4 B', '$1.3 B', '$1.9 B', '$17.8 B', '$1.2 B', '$2.2 B',\n       '$2.2 B', '$5.8 B', '$1.9 B', '$2.5 B', '$2.2 B', '$1.1 B',\n       '$4.7 B', '$5.5 B', '$7.5 B', '$5.5 B', '$2.4 B', '$2.4 B',\n       '$1.2 B', '$2.5 B', '$2.1 B', '$6.5 B', '$3.7 B', '$3.7 B',\n       '$1.3 B', '$2.7 B', '$4.5 B', '$1.9 B', '$1.5 B', '$1.5 B',\n       '$7.8 B', '$3.3 B', '$3.7 B', '$4 B', '$1.2 B', '$3.3 B', '$1.1 B',\n       '$11.6 B', '$3.7 B', '$19.7 B', '$3 B', '$1.3 B', '$5.8 B',\n       '$3.2 B', '$4.5 B', '$2.1 B', '$1.9 B', '$1.2 B', '$3.6 B',\n       '$25.8 B', '$1.1 B', '$1.6 B', '$2.2 B', '$2.8 B', '$3 B',\n       '$6.5 B', '$7.9 B', '$1.5 B', '$50.5 B', '$1.4 B', '$1.3 B',\n       '$3.5 B', '$1.8 B', '$1.9 B', '$12.4 B', '$8.3 B', '$3.1 B',\n       '$3.7 B', '$5.5 B', '$1.6 B', '$2.9 B', '$2.5 B', '$1.6 B',\n       '$4.8 B', '$2.1 B', '$1.8 B', '$3.6 B', '$1.9 B', '$3.4 B',\n       '$1.7 B', '$3.3 B', '$1.9 B', '$1.5 B', '$1.9 B', '$1.1 B',\n       '$1.7 B', '$1.8 B', '$4.4 B', '$3 B', '$1.4 B', '$7.9 B', '$2.2 B',\n       '$2 B', '$3.3 B', '$3.5 B', '$2.4 B', '$1.4 B', '$2.2 B', '$1.2 B',\n       '$1.5 B', '$4.9 B', '$4 B', '$1 B', '$5.3 B', '$1.4 B', '$2.1 B',\n       '$14.7 B', '$1.4 B', '$4.6 B', '$2.9 B', '$1.2 B', '$1.2 B',\n       '$8.7 B', '$16.5 B', '$1.6 B', '$1.2 B', '$1.1 B', '$1.4 B',\n       '$4.5 B'], dtype=object)"
                    },
                    "execution_count": 20,
                    "metadata": {},
                    "output_type": "execute_result"
                }
            ],
            "source": [
                "# Load saved model. Make sure that you have run the previous\n",
                "# section at least once, and that the file exists.\n",
                "\n",
                "model = joblib.load('Billionaire.joblib')\n",
                "predictions = model.predict(X_test)\n",
                "predictions"
            ]
        },
        {
            "attachments": {},
            "cell_type": "markdown",
            "metadata": {},
            "source": [
                "6. (Optional) Visualize decision trees"
            ]
        },
        {
            "cell_type": "code",
            "execution_count": 22,
            "metadata": {},
            "outputs": [],
            "source": [
                "tree.export_graphviz(model, out_file = 'Billionaire.dot',\n",
                "                    feature_names = X.columns, \n",
                "                    class_names = str(sorted(y.unique())), \n",
                "                    label = 'all',\n",
                "                    rounded = True, \n",
                "                    filled = True)\n",
                "\n",
                "#Download the file music-recommender.dot and open it in VS Code.\n",
                ""
            ]
        },
        {
            "cell_type": "code",
            "execution_count": 0,
            "metadata": {},
            "outputs": [],
            "source": [
                ""
            ]
        }
    ]
}
