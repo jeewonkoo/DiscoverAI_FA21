{
    "metadata": {
        "kernelspec": {
            "name": "python3",
            "display_name": "Python 3 (ipykernel)",
            "language": "python"
        }
    },
    "nbformat": 4,
    "nbformat_minor": 2,
    "cells": [
        {
            "cell_type": "code",
            "execution_count": 3,
            "metadata": {},
            "outputs": [],
            "source": [
                "import pandas as pd\n",
                "import numpy as np\n",
                "from matplotlib import pyplot as plt\n",
                "import numpy as np\n",
                "%matplotlib inline "
            ]
        },
        {
            "cell_type": "code",
            "execution_count": 4,
            "metadata": {},
            "outputs": [],
            "source": [
                "df = pd.read_csv('Billionaire.csv',engine='python')"
            ]
        },
        {
            "cell_type": "code",
            "execution_count": 5,
            "metadata": {},
            "outputs": [
                {
                    "name": "stdout",
                    "output_type": "stream",
                    "text": "\u003cclass 'pandas.core.frame.DataFrame'\u003e\nRangeIndex: 2676 entries, 0 to 2675\nData columns (total 7 columns):\n #   Column    Non-Null Count  Dtype \n---  ------    --------------  ----- \n 0   Name      2676 non-null   object\n 1   NetWorth  2676 non-null   object\n 2   Country   2676 non-null   object\n 3   Source    2676 non-null   object\n 4   Rank      2676 non-null   int64 \n 5   Age       2676 non-null   int64 \n 6   Industry  2676 non-null   object\ndtypes: int64(2), object(5)\nmemory usage: 146.5+ KB\n"
                }
            ],
            "source": [
                "df.info()"
            ]
        },
        {
            "cell_type": "code",
            "execution_count": 6,
            "metadata": {},
            "outputs": [
                {
                    "data": {
                        "text/html": "\u003cdiv\u003e\n\u003cstyle scoped\u003e\n    .dataframe tbody tr th:only-of-type {\n        vertical-align: middle;\n    }\n\n    .dataframe tbody tr th {\n        vertical-align: top;\n    }\n\n    .dataframe thead th {\n        text-align: right;\n    }\n\u003c/style\u003e\n\u003ctable border=\"1\" class=\"dataframe\"\u003e\n  \u003cthead\u003e\n    \u003ctr style=\"text-align: right;\"\u003e\n      \u003cth\u003e\u003c/th\u003e\n      \u003cth\u003eName\u003c/th\u003e\n      \u003cth\u003eNetWorth\u003c/th\u003e\n      \u003cth\u003eCountry\u003c/th\u003e\n      \u003cth\u003eSource\u003c/th\u003e\n      \u003cth\u003eRank\u003c/th\u003e\n      \u003cth\u003eAge\u003c/th\u003e\n      \u003cth\u003eIndustry\u003c/th\u003e\n    \u003c/tr\u003e\n  \u003c/thead\u003e\n  \u003ctbody\u003e\n    \u003ctr\u003e\n      \u003cth\u003e0\u003c/th\u003e\n      \u003ctd\u003eJeff Bezos\u003c/td\u003e\n      \u003ctd\u003e$177 B\u003c/td\u003e\n      \u003ctd\u003eUnited States\u003c/td\u003e\n      \u003ctd\u003eAmazon\u003c/td\u003e\n      \u003ctd\u003e1\u003c/td\u003e\n      \u003ctd\u003e57\u003c/td\u003e\n      \u003ctd\u003eTechnology\u003c/td\u003e\n    \u003c/tr\u003e\n    \u003ctr\u003e\n      \u003cth\u003e1\u003c/th\u003e\n      \u003ctd\u003eElon Musk\u003c/td\u003e\n      \u003ctd\u003e$151 B\u003c/td\u003e\n      \u003ctd\u003eUnited States\u003c/td\u003e\n      \u003ctd\u003eTesla, SpaceX\u003c/td\u003e\n      \u003ctd\u003e2\u003c/td\u003e\n      \u003ctd\u003e49\u003c/td\u003e\n      \u003ctd\u003eAutomotive\u003c/td\u003e\n    \u003c/tr\u003e\n    \u003ctr\u003e\n      \u003cth\u003e2\u003c/th\u003e\n      \u003ctd\u003eBernard Arnault \u0026amp; family\u003c/td\u003e\n      \u003ctd\u003e$150 B\u003c/td\u003e\n      \u003ctd\u003eFrance\u003c/td\u003e\n      \u003ctd\u003eLVMH\u003c/td\u003e\n      \u003ctd\u003e3\u003c/td\u003e\n      \u003ctd\u003e72\u003c/td\u003e\n      \u003ctd\u003eFashion \u0026amp; Retail\u003c/td\u003e\n    \u003c/tr\u003e\n    \u003ctr\u003e\n      \u003cth\u003e3\u003c/th\u003e\n      \u003ctd\u003eBill Gates\u003c/td\u003e\n      \u003ctd\u003e$124 B\u003c/td\u003e\n      \u003ctd\u003eUnited States\u003c/td\u003e\n      \u003ctd\u003eMicrosoft\u003c/td\u003e\n      \u003ctd\u003e4\u003c/td\u003e\n      \u003ctd\u003e65\u003c/td\u003e\n      \u003ctd\u003eTechnology\u003c/td\u003e\n    \u003c/tr\u003e\n    \u003ctr\u003e\n      \u003cth\u003e4\u003c/th\u003e\n      \u003ctd\u003eMark Zuckerberg\u003c/td\u003e\n      \u003ctd\u003e$97 B\u003c/td\u003e\n      \u003ctd\u003eUnited States\u003c/td\u003e\n      \u003ctd\u003eFacebook\u003c/td\u003e\n      \u003ctd\u003e5\u003c/td\u003e\n      \u003ctd\u003e36\u003c/td\u003e\n      \u003ctd\u003eTechnology\u003c/td\u003e\n    \u003c/tr\u003e\n    \u003ctr\u003e\n      \u003cth\u003e5\u003c/th\u003e\n      \u003ctd\u003eWarren Buffett\u003c/td\u003e\n      \u003ctd\u003e$96 B\u003c/td\u003e\n      \u003ctd\u003eUnited States\u003c/td\u003e\n      \u003ctd\u003eBerkshire Hathaway\u003c/td\u003e\n      \u003ctd\u003e6\u003c/td\u003e\n      \u003ctd\u003e90\u003c/td\u003e\n      \u003ctd\u003eFinance \u0026amp; Investments\u003c/td\u003e\n    \u003c/tr\u003e\n    \u003ctr\u003e\n      \u003cth\u003e6\u003c/th\u003e\n      \u003ctd\u003eLarry Ellison\u003c/td\u003e\n      \u003ctd\u003e$93 B\u003c/td\u003e\n      \u003ctd\u003eUnited States\u003c/td\u003e\n      \u003ctd\u003esoftware\u003c/td\u003e\n      \u003ctd\u003e7\u003c/td\u003e\n      \u003ctd\u003e76\u003c/td\u003e\n      \u003ctd\u003eTechnology\u003c/td\u003e\n    \u003c/tr\u003e\n    \u003ctr\u003e\n      \u003cth\u003e7\u003c/th\u003e\n      \u003ctd\u003eLarry Page\u003c/td\u003e\n      \u003ctd\u003e$91.5 B\u003c/td\u003e\n      \u003ctd\u003eUnited States\u003c/td\u003e\n      \u003ctd\u003eGoogle\u003c/td\u003e\n      \u003ctd\u003e8\u003c/td\u003e\n      \u003ctd\u003e48\u003c/td\u003e\n      \u003ctd\u003eTechnology\u003c/td\u003e\n    \u003c/tr\u003e\n    \u003ctr\u003e\n      \u003cth\u003e8\u003c/th\u003e\n      \u003ctd\u003eSergey Brin\u003c/td\u003e\n      \u003ctd\u003e$89 B\u003c/td\u003e\n      \u003ctd\u003eUnited States\u003c/td\u003e\n      \u003ctd\u003eGoogle\u003c/td\u003e\n      \u003ctd\u003e9\u003c/td\u003e\n      \u003ctd\u003e47\u003c/td\u003e\n      \u003ctd\u003eTechnology\u003c/td\u003e\n    \u003c/tr\u003e\n    \u003ctr\u003e\n      \u003cth\u003e9\u003c/th\u003e\n      \u003ctd\u003eMukesh Ambani\u003c/td\u003e\n      \u003ctd\u003e$84.5 B\u003c/td\u003e\n      \u003ctd\u003eIndia\u003c/td\u003e\n      \u003ctd\u003ediversified\u003c/td\u003e\n      \u003ctd\u003e10\u003c/td\u003e\n      \u003ctd\u003e63\u003c/td\u003e\n      \u003ctd\u003eDiversified\u003c/td\u003e\n    \u003c/tr\u003e\n  \u003c/tbody\u003e\n\u003c/table\u003e\n\u003c/div\u003e",
                        "text/plain": "                       Name NetWorth        Country              Source  Rank  \\\n0                Jeff Bezos   $177 B  United States              Amazon     1   \n1                 Elon Musk   $151 B  United States       Tesla, SpaceX     2   \n2  Bernard Arnault \u0026 family   $150 B         France                LVMH     3   \n3                Bill Gates   $124 B  United States           Microsoft     4   \n4           Mark Zuckerberg    $97 B  United States            Facebook     5   \n5            Warren Buffett    $96 B  United States  Berkshire Hathaway     6   \n6             Larry Ellison    $93 B  United States            software     7   \n7                Larry Page  $91.5 B  United States              Google     8   \n8               Sergey Brin    $89 B  United States              Google     9   \n9             Mukesh Ambani  $84.5 B          India         diversified    10   \n\n   Age               Industry  \n0   57             Technology  \n1   49             Automotive  \n2   72       Fashion \u0026 Retail  \n3   65             Technology  \n4   36             Technology  \n5   90  Finance \u0026 Investments  \n6   76             Technology  \n7   48             Technology  \n8   47             Technology  \n9   63            Diversified  "
                    },
                    "execution_count": 6,
                    "metadata": {},
                    "output_type": "execute_result"
                }
            ],
            "source": [
                "df.head(10)"
            ]
        },
        {
            "cell_type": "code",
            "execution_count": 7,
            "metadata": {},
            "outputs": [
                {
                    "data": {
                        "text/html": "\u003cdiv\u003e\n\u003cstyle scoped\u003e\n    .dataframe tbody tr th:only-of-type {\n        vertical-align: middle;\n    }\n\n    .dataframe tbody tr th {\n        vertical-align: top;\n    }\n\n    .dataframe thead th {\n        text-align: right;\n    }\n\u003c/style\u003e\n\u003ctable border=\"1\" class=\"dataframe\"\u003e\n  \u003cthead\u003e\n    \u003ctr style=\"text-align: right;\"\u003e\n      \u003cth\u003e\u003c/th\u003e\n      \u003cth\u003eRank\u003c/th\u003e\n      \u003cth\u003eAge\u003c/th\u003e\n    \u003c/tr\u003e\n  \u003c/thead\u003e\n  \u003ctbody\u003e\n    \u003ctr\u003e\n      \u003cth\u003ecount\u003c/th\u003e\n      \u003ctd\u003e2676.000000\u003c/td\u003e\n      \u003ctd\u003e2676.000000\u003c/td\u003e\n    \u003c/tr\u003e\n    \u003ctr\u003e\n      \u003cth\u003emean\u003c/th\u003e\n      \u003ctd\u003e1343.791106\u003c/td\u003e\n      \u003ctd\u003e63.113602\u003c/td\u003e\n    \u003c/tr\u003e\n    \u003ctr\u003e\n      \u003cth\u003estd\u003c/th\u003e\n      \u003ctd\u003e773.724884\u003c/td\u003e\n      \u003ctd\u003e13.445153\u003c/td\u003e\n    \u003c/tr\u003e\n    \u003ctr\u003e\n      \u003cth\u003emin\u003c/th\u003e\n      \u003ctd\u003e1.000000\u003c/td\u003e\n      \u003ctd\u003e18.000000\u003c/td\u003e\n    \u003c/tr\u003e\n    \u003ctr\u003e\n      \u003cth\u003e25%\u003c/th\u003e\n      \u003ctd\u003e680.000000\u003c/td\u003e\n      \u003ctd\u003e54.000000\u003c/td\u003e\n    \u003c/tr\u003e\n    \u003ctr\u003e\n      \u003cth\u003e50%\u003c/th\u003e\n      \u003ctd\u003e1362.000000\u003c/td\u003e\n      \u003ctd\u003e63.000000\u003c/td\u003e\n    \u003c/tr\u003e\n    \u003ctr\u003e\n      \u003cth\u003e75%\u003c/th\u003e\n      \u003ctd\u003e2035.000000\u003c/td\u003e\n      \u003ctd\u003e73.000000\u003c/td\u003e\n    \u003c/tr\u003e\n    \u003ctr\u003e\n      \u003cth\u003emax\u003c/th\u003e\n      \u003ctd\u003e2674.000000\u003c/td\u003e\n      \u003ctd\u003e99.000000\u003c/td\u003e\n    \u003c/tr\u003e\n  \u003c/tbody\u003e\n\u003c/table\u003e\n\u003c/div\u003e",
                        "text/plain": "              Rank          Age\ncount  2676.000000  2676.000000\nmean   1343.791106    63.113602\nstd     773.724884    13.445153\nmin       1.000000    18.000000\n25%     680.000000    54.000000\n50%    1362.000000    63.000000\n75%    2035.000000    73.000000\nmax    2674.000000    99.000000"
                    },
                    "execution_count": 7,
                    "metadata": {},
                    "output_type": "execute_result"
                }
            ],
            "source": [
                "df.describe()"
            ]
        },
        {
            "cell_type": "code",
            "execution_count": 8,
            "metadata": {},
            "outputs": [
                {
                    "data": {
                        "text/plain": "Index(['Name', 'NetWorth', 'Country', 'Source', 'Rank', 'Age', 'Industry'], dtype='object')"
                    },
                    "execution_count": 8,
                    "metadata": {},
                    "output_type": "execute_result"
                }
            ],
            "source": [
                "df.columns"
            ]
        },
        {
            "cell_type": "code",
            "execution_count": 9,
            "metadata": {},
            "outputs": [
                {
                    "data": {
                        "text/html": "\u003cdiv\u003e\n\u003cstyle scoped\u003e\n    .dataframe tbody tr th:only-of-type {\n        vertical-align: middle;\n    }\n\n    .dataframe tbody tr th {\n        vertical-align: top;\n    }\n\n    .dataframe thead th {\n        text-align: right;\n    }\n\u003c/style\u003e\n\u003ctable border=\"1\" class=\"dataframe\"\u003e\n  \u003cthead\u003e\n    \u003ctr style=\"text-align: right;\"\u003e\n      \u003cth\u003e\u003c/th\u003e\n      \u003cth\u003eName\u003c/th\u003e\n      \u003cth\u003eNetWorth\u003c/th\u003e\n      \u003cth\u003eCountry\u003c/th\u003e\n      \u003cth\u003eSource\u003c/th\u003e\n      \u003cth\u003eRank\u003c/th\u003e\n      \u003cth\u003eAge\u003c/th\u003e\n      \u003cth\u003eIndustry\u003c/th\u003e\n    \u003c/tr\u003e\n  \u003c/thead\u003e\n  \u003ctbody\u003e\n    \u003ctr\u003e\n      \u003cth\u003e2671\u003c/th\u003e\n      \u003ctd\u003eDaniel Yong Zhang\u003c/td\u003e\n      \u003ctd\u003e$1 B\u003c/td\u003e\n      \u003ctd\u003eChina\u003c/td\u003e\n      \u003ctd\u003ee-commerce\u003c/td\u003e\n      \u003ctd\u003e2674\u003c/td\u003e\n      \u003ctd\u003e49\u003c/td\u003e\n      \u003ctd\u003eTechnology\u003c/td\u003e\n    \u003c/tr\u003e\n    \u003ctr\u003e\n      \u003cth\u003e2672\u003c/th\u003e\n      \u003ctd\u003eZhang Yuqiang\u003c/td\u003e\n      \u003ctd\u003e$1 B\u003c/td\u003e\n      \u003ctd\u003eChina\u003c/td\u003e\n      \u003ctd\u003eFiberglass\u003c/td\u003e\n      \u003ctd\u003e2674\u003c/td\u003e\n      \u003ctd\u003e65\u003c/td\u003e\n      \u003ctd\u003eManufacturing\u003c/td\u003e\n    \u003c/tr\u003e\n    \u003ctr\u003e\n      \u003cth\u003e2673\u003c/th\u003e\n      \u003ctd\u003eZhao Meiguang\u003c/td\u003e\n      \u003ctd\u003e$1 B\u003c/td\u003e\n      \u003ctd\u003eChina\u003c/td\u003e\n      \u003ctd\u003egold mining\u003c/td\u003e\n      \u003ctd\u003e2674\u003c/td\u003e\n      \u003ctd\u003e58\u003c/td\u003e\n      \u003ctd\u003eMetals \u0026amp; Mining\u003c/td\u003e\n    \u003c/tr\u003e\n    \u003ctr\u003e\n      \u003cth\u003e2674\u003c/th\u003e\n      \u003ctd\u003eZhong Naixiong\u003c/td\u003e\n      \u003ctd\u003e$1 B\u003c/td\u003e\n      \u003ctd\u003eChina\u003c/td\u003e\n      \u003ctd\u003econglomerate\u003c/td\u003e\n      \u003ctd\u003e2674\u003c/td\u003e\n      \u003ctd\u003e58\u003c/td\u003e\n      \u003ctd\u003eDiversified\u003c/td\u003e\n    \u003c/tr\u003e\n    \u003ctr\u003e\n      \u003cth\u003e2675\u003c/th\u003e\n      \u003ctd\u003eZhou Wei family\u003c/td\u003e\n      \u003ctd\u003e$1 B\u003c/td\u003e\n      \u003ctd\u003eChina\u003c/td\u003e\n      \u003ctd\u003eSoftware\u003c/td\u003e\n      \u003ctd\u003e2674\u003c/td\u003e\n      \u003ctd\u003e54\u003c/td\u003e\n      \u003ctd\u003eTechnology\u003c/td\u003e\n    \u003c/tr\u003e\n  \u003c/tbody\u003e\n\u003c/table\u003e\n\u003c/div\u003e",
                        "text/plain": "                   Name NetWorth Country        Source  Rank  Age  \\\n2671  Daniel Yong Zhang     $1 B   China    e-commerce  2674   49   \n2672      Zhang Yuqiang     $1 B   China    Fiberglass  2674   65   \n2673      Zhao Meiguang     $1 B   China   gold mining  2674   58   \n2674     Zhong Naixiong     $1 B   China  conglomerate  2674   58   \n2675    Zhou Wei family     $1 B   China      Software  2674   54   \n\n             Industry  \n2671       Technology  \n2672    Manufacturing  \n2673  Metals \u0026 Mining  \n2674      Diversified  \n2675       Technology  "
                    },
                    "execution_count": 9,
                    "metadata": {},
                    "output_type": "execute_result"
                }
            ],
            "source": [
                "df.tail() # Check the bottom 5 rows"
            ]
        },
        {
            "attachments": {},
            "cell_type": "markdown",
            "metadata": {},
            "source": [
                "# Missing Data\n",
                "Some columns have missing values. For our analysis, we only want to keep rows with complete data.\n",
                "Note that \"NaN\" stands for \"Not a Number\" and means the data is missing."
            ]
        },
        {
            "cell_type": "code",
            "execution_count": 10,
            "metadata": {},
            "outputs": [
                {
                    "data": {
                        "text/plain": "Name        False\nNetWorth    False\nCountry     False\nSource      False\nRank        False\nAge         False\nIndustry    False\ndtype: bool"
                    },
                    "execution_count": 10,
                    "metadata": {},
                    "output_type": "execute_result"
                }
            ],
            "source": [
                "# This will give us a list of the columns that contain NaN \n",
                "# NaN stands for \"Not a Number\", or that there is no value in there (it's missing)\n",
                "# Note: edit your file to get rid of the null entries until the code returns False for all columns\n",
                "pd.isnull(df.head(100)).sum() \u003e 0"
            ]
        },
        {
            "cell_type": "code",
            "execution_count": 0,
            "metadata": {},
            "outputs": [],
            "source": [
                ""
            ]
        }
    ]
}
